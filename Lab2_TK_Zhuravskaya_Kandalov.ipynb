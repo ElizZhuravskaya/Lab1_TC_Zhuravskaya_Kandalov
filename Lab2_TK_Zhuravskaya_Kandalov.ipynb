{
  "nbformat": 4,
  "nbformat_minor": 0,
  "metadata": {
    "colab": {
      "provenance": []
    },
    "kernelspec": {
      "name": "python3",
      "display_name": "Python 3"
    },
    "language_info": {
      "name": "python"
    }
  },
  "cells": [
    {
      "cell_type": "markdown",
      "source": [
        "# Лабораторная работа №2 по предмету \"Теория кодирования\".\n",
        "Выполнили студенты группы 6404-010302D,\n",
        "Журавская Елизавета и Кандалов Иван.\n",
        "\n"
      ],
      "metadata": {
        "id": "C_URglygqZjr"
      }
    },
    {
      "cell_type": "code",
      "source": [
        "import numpy as np"
      ],
      "metadata": {
        "id": "h4QgxC7CrNJK"
      },
      "execution_count": null,
      "outputs": []
    },
    {
      "cell_type": "markdown",
      "source": [
        "# 2.1. Сформировать порождающую матрицу линейного кода (n=7, k=4, d=3)."
      ],
      "metadata": {
        "id": "-KMku3BUx8Gf"
      }
    },
    {
      "cell_type": "code",
      "source": [
        "def generate_code_matrix():\n",
        "    # Определяем единичную матрицу I4 (размер 4x4)\n",
        "    I4 = np.eye(4, dtype=int)\n",
        "\n",
        "    X = np.array([[1, 1, 0],\n",
        "                  [1, 0, 1],\n",
        "                  [0, 1, 1],\n",
        "                  [1, 1, 1]])\n",
        "\n",
        "    # Формируем порождающую матрицу G\n",
        "    G = np.hstack((I4, X)) #присоединяет данные по горизонтальной оси\n",
        "\n",
        "    return G\n",
        "\n",
        "G = generate_code_matrix()\n",
        "print(\"Порождающая матрица G:\\n\", G)"
      ],
      "metadata": {
        "colab": {
          "base_uri": "https://localhost:8080/"
        },
        "id": "H_HM0jZFrWNE",
        "outputId": "0d0cb8e5-9ae2-471a-f863-e124b62bacd3"
      },
      "execution_count": null,
      "outputs": [
        {
          "output_type": "stream",
          "name": "stdout",
          "text": [
            "Порождающая матрица G:\n",
            " [[1 0 0 0 1 1 0]\n",
            " [0 1 0 0 1 0 1]\n",
            " [0 0 1 0 0 1 1]\n",
            " [0 0 0 1 1 1 1]]\n"
          ]
        }
      ]
    },
    {
      "cell_type": "markdown",
      "source": [
        "# 2.2 Сформировать проверочную матрицу на основе порождающей."
      ],
      "metadata": {
        "id": "TtdOgMBRx58-"
      }
    },
    {
      "cell_type": "code",
      "source": [
        "def generate_code_matrix():\n",
        "    # Определяем единичную матрицу I3 (размер 3x3)\n",
        "    I3 = np.eye(3, dtype=int)\n",
        "\n",
        "    X = np.array([[1, 1, 0],\n",
        "                  [1, 0, 1],\n",
        "                  [0, 1, 1],\n",
        "                  [1, 1, 1]])\n",
        "\n",
        "    # Формируем порождающую матрицу G\n",
        "    H = np.vstack((I3, X)) #присоединяет данные по вертикальной оси\n",
        "\n",
        "    return H\n",
        "\n",
        "H = generate_code_matrix()\n",
        "print(\"Проверочная матрица H:\\n\", H)"
      ],
      "metadata": {
        "colab": {
          "base_uri": "https://localhost:8080/"
        },
        "id": "F6ID7H4oxEH7",
        "outputId": "6994ee50-f662-4f62-95be-0afc44f3896e"
      },
      "execution_count": null,
      "outputs": [
        {
          "output_type": "stream",
          "name": "stdout",
          "text": [
            "Проверочная матрица H:\n",
            " [[1 0 0]\n",
            " [0 1 0]\n",
            " [0 0 1]\n",
            " [1 1 0]\n",
            " [1 0 1]\n",
            " [0 1 1]\n",
            " [1 1 1]]\n"
          ]
        }
      ]
    },
    {
      "cell_type": "markdown",
      "source": [
        "# 2.3 Сформировать таблицу синдромов для всех однократных ошибок."
      ],
      "metadata": {
        "id": "-rkR0fSxx9oI"
      }
    },
    {
      "cell_type": "code",
      "source": [
        "n = 7\n",
        "error_table = {}\n",
        "for i in range(n):\n",
        "    error = np.zeros(n)\n",
        "    error[i] = 1\n",
        "    syndrome = np.dot(error, H) % 2\n",
        "    error_table[tuple(map(int, tuple(syndrome)))] = tuple(map(int, tuple(error)))\n",
        "\n",
        "\n",
        "print(\"Таблица синдромов однократных ошибок\")\n",
        "for syndrome, error in error_table.items():\n",
        "    print(f\"Синдром {syndrome}: Ошибка {error}\")"
      ],
      "metadata": {
        "colab": {
          "base_uri": "https://localhost:8080/"
        },
        "id": "gMqL94TYx3WD",
        "outputId": "6d128d95-c84a-4560-916c-85e53114b985"
      },
      "execution_count": null,
      "outputs": [
        {
          "output_type": "stream",
          "name": "stdout",
          "text": [
            "Таблица синдромов однократных ошибок\n",
            "Синдром (1, 0, 0): Ошибка (1, 0, 0, 0, 0, 0, 0)\n",
            "Синдром (0, 1, 0): Ошибка (0, 1, 0, 0, 0, 0, 0)\n",
            "Синдром (0, 0, 1): Ошибка (0, 0, 1, 0, 0, 0, 0)\n",
            "Синдром (1, 1, 0): Ошибка (0, 0, 0, 1, 0, 0, 0)\n",
            "Синдром (1, 0, 1): Ошибка (0, 0, 0, 0, 1, 0, 0)\n",
            "Синдром (0, 1, 1): Ошибка (0, 0, 0, 0, 0, 1, 0)\n",
            "Синдром (1, 1, 1): Ошибка (0, 0, 0, 0, 0, 0, 1)\n"
          ]
        }
      ]
    },
    {
      "cell_type": "markdown",
      "source": [
        "# 2.4. Сформировать кодовое слово длины n из слова длины k. Внести однократную ошибку в сформированное слово. Вычислить синдром, исправить ошибку с использованием таблицы синдромов. Убедиться в правильности полученного слова."
      ],
      "metadata": {
        "id": "SwBO9ZcM0qWn"
      }
    },
    {
      "cell_type": "code",
      "source": [
        "# Кодирование сообщения\n",
        "def encode_message(message, G_matrix):\n",
        "    return np.dot(message, G_matrix) % 2\n",
        "\n",
        "# Добавление однократной ошибки\n",
        "def add_single_error(codeword, error_position):\n",
        "    codeword_with_error = codeword.copy()\n",
        "    codeword_with_error[error_position] ^= 1\n",
        "    return codeword_with_error\n",
        "\n",
        "def decode_and_correct(codeword_with_error, H_matrix, syndrome_table, syndrome_tuple):\n",
        "    # Если синдром найден в таблице, исправляем ошибку\n",
        "    if syndrome_tuple in syndrome_table:\n",
        "        error_vector = syndrome_table[syndrome_tuple]\n",
        "        # Исправляем кодовое слово, добавляя вектор ошибки\n",
        "        corrected_codeword = (codeword_with_error + error_vector) % 2\n",
        "        return corrected_codeword\n",
        "    else:\n",
        "        print(\"Синдром не найден в таблице.\")\n",
        "        return codeword_with_error\n",
        "\n",
        "\n",
        "k = 4\n",
        "n = 10\n",
        "\n",
        "# Сообщение для кодирования (слово длины k)\n",
        "message = np.array([1, 0, 1, 1])\n",
        "print(\"\\nИсходное сообщение:\", message)\n",
        "codeword = encode_message(message, G)\n",
        "print(\"\\nОтправлено:\", codeword)\n",
        "\n",
        "print(\"\\nВ ходе передачи возникла ошибка\")\n",
        "# Вносим однократную ошибку в позицию 2 (можно в любую)\n",
        "codeword_with_error = add_single_error(codeword, 2)\n",
        "print(\"\\nПринято:\", codeword_with_error)\n",
        "print(\"\\nДекодирование без исправления:\", codeword_with_error[0:4])\n",
        "\n",
        "# вычисляем синдром\n",
        "syndrome = np.dot(codeword_with_error, H) % 2\n",
        "print(\"\\nСиндром:\", syndrome)\n",
        "print(\"\\nВ принятом сообщении есть ошибка\")\n",
        "# Преобразуем синдром в кортеж из целых чисел\n",
        "syndrome_tuple = tuple(map(int, tuple(syndrome)))\n",
        "# Исправление ошибки\n",
        "corrected_codeword = decode_and_correct(codeword_with_error, H, error_table,syndrome_tuple)\n",
        "print(\"\\nИсправленное слово:\", corrected_codeword)\n",
        "\n",
        "# Проверка корректности исправления\n",
        "if np.array_equal(codeword, corrected_codeword):\n",
        "    print(\"\\nОшибка успешно исправлена!\")\n",
        "else:\n",
        "    print(\"\\nОшибка не была исправлена корректно.\")"
      ],
      "metadata": {
        "colab": {
          "base_uri": "https://localhost:8080/"
        },
        "id": "3nz1YtYFMYWI",
        "outputId": "900384c8-4319-4480-afe5-aa21204420be"
      },
      "execution_count": null,
      "outputs": [
        {
          "output_type": "stream",
          "name": "stdout",
          "text": [
            "\n",
            "Исходное сообщение: [1 0 1 1]\n",
            "\n",
            "Отправлено: [1 0 1 1 0 1 0]\n",
            "\n",
            "В ходе передачи возникла ошибка\n",
            "\n",
            "Принято: [1 0 0 1 0 1 0]\n",
            "\n",
            "Декодирование без исправления: [1 0 0 1]\n",
            "\n",
            "Синдром: [0 0 1]\n",
            "\n",
            "В принятом сообщении есть ошибка\n",
            "\n",
            "Исправленное слово: [1 0 1 1 0 1 0]\n",
            "\n",
            "Ошибка успешно исправлена!\n"
          ]
        }
      ]
    },
    {
      "cell_type": "markdown",
      "source": [
        "# 2.5. Сформировать кодовое слово длины n из слова длины k. Внести двукратную ошибку в сформированное слово. Вычислить синдром, исправить ошибку с использованием таблицы синдромов. Убедиться, что полученное слово отличается от отправленного."
      ],
      "metadata": {
        "id": "PLbzQuPv08VW"
      }
    },
    {
      "cell_type": "code",
      "source": [
        "def add_double_error(codeword, error_positions):\n",
        "    # Добавляем двукратную ошибку\n",
        "    codeword_with_double_error = codeword.copy()\n",
        "    for pos in error_positions:\n",
        "        codeword_with_double_error[pos] ^= 1\n",
        "    return codeword_with_double_error\n",
        "\n",
        "\n",
        "message = np.array([1, 0, 0, 1])  # Сообщение длины k=4\n",
        "print(\"\\nИсходное сообщение:\", message)\n",
        "\n",
        "codeword = encode_message(message, G)\n",
        "print(\"\\nОтправлено:\", codeword)\n",
        "\n",
        "print(\"\\nВ ходе передачи возникла ошибка\")\n",
        "# Вносим ошибки в позиции 1, 2 (можно в любую)\n",
        "codeword_with_double_error = add_double_error(codeword, [1, 2])\n",
        "print(\"\\nПринято:\", codeword_with_double_error)\n",
        "print(\"\\nДекодирование без исправления:\", codeword_with_double_error[0:4])\n",
        "# вычисляем синдром\n",
        "syndrome = np.dot(codeword_with_double_error, H) % 2\n",
        "# Синдром\n",
        "print(\"\\nСиндром:\", syndrome)\n",
        "print(\"\\nВ принятом сообщении есть ошибка\")\n",
        "# Преобразуем синдром в кортеж из целых чисел\n",
        "syndrome_tuple = tuple(map(int, tuple(syndrome)))\n",
        "# Исправление ошибки\n",
        "corrected_codeword = decode_and_correct(codeword_with_error, H, error_table, syndrome_tuple)\n",
        "print(\"\\nИсправленное слово:\", corrected_codeword)\n",
        "print(\"\\nДекодированное слово:\", codeword_with_double_error[0:4])\n",
        "\n",
        "# Проверка корректности исправления\n",
        "if np.array_equal(codeword, corrected_codeword):\n",
        "    print(\"\\nОшибка успешно исправлена!\")\n",
        "else:\n",
        "    print(\"\\nОшибка не была исправлена корректно.\")"
      ],
      "metadata": {
        "colab": {
          "base_uri": "https://localhost:8080/"
        },
        "id": "gu7vKoH5Bo0T",
        "outputId": "3ca56fc0-0cd1-4738-badb-c7f3be8dd30b"
      },
      "execution_count": null,
      "outputs": [
        {
          "output_type": "stream",
          "name": "stdout",
          "text": [
            "\n",
            "Исходное сообщение: [1 0 0 1]\n",
            "\n",
            "Отправлено: [1 0 0 1 0 0 1]\n",
            "\n",
            "В ходе передачи возникла ошибка\n",
            "\n",
            "Принято: [1 1 1 1 0 0 1]\n",
            "\n",
            "Декодирование без исправления: [1 1 1 1]\n",
            "\n",
            "Синдром: [1 1 0]\n",
            "\n",
            "В принятом сообщении есть ошибка\n",
            "\n",
            "Исправленное слово: [1 0 0 0 0 1 0]\n",
            "\n",
            "Декодированное слово: [1 1 1 1]\n",
            "\n",
            "Ошибка не была исправлена корректно.\n"
          ]
        }
      ]
    },
    {
      "cell_type": "markdown",
      "source": [
        "# 2.6. Сформировать порождающую матрицу линейного кода (n, k, 5).\n",
        "\n",
        "Подсказка 4:\n",
        "Чтобы d было равно пяти, необходимо, чтобы в матрице X (без учёта единичной матрицы слева):\n",
        "а) было не меньше 4 единиц в каждой строке;\n",
        "б) сумма любых двух строк содержала не менее 3 единиц;\n",
        "в) сумма любых трёх строк содержала не менее 2 единиц;\n",
        "г) сумма любых четырёх строк содержала не менее 1 единицы;"
      ],
      "metadata": {
        "id": "8AZVNB58D8Jc"
      }
    },
    {
      "cell_type": "code",
      "source": [
        "from itertools import combinations\n",
        "\n",
        "def check_conditions(X):\n",
        "    # Условие 1: В каждой строке X должно быть не менее 4 единиц\n",
        "    for row_idx, row in enumerate(X):\n",
        "        if np.sum(row) < 4:\n",
        "            raise ValueError(f\"Ошибка: в строке {row_idx + 1} меньше 4 единиц. Строка: {row}\")\n",
        "\n",
        "    # Условие 2: Сумма любых двух строк должна содержать не менее 3 единиц\n",
        "    for (i, j) in combinations(range(X.shape[0]), 2):\n",
        "        row_sum = np.sum(X[i] + X[j])\n",
        "        if row_sum < 3:\n",
        "            raise ValueError(f\"Ошибка: сумма строк {i+1} и {j+1} содержит меньше 3 единиц. Сумма: {row_sum}\")\n",
        "\n",
        "    # Условие 3: Сумма любых трёх строк должна содержать не менее 2 единиц\n",
        "    for (i, j, k) in combinations(range(X.shape[0]), 3):\n",
        "        row_sum = np.sum(X[i] + X[j] + X[k])\n",
        "        if row_sum < 2:\n",
        "            raise ValueError(f\"Ошибка: сумма строк {i+1}, {j+1} и {k+1} содержит меньше 2 единиц. Сумма: {row_sum}\")\n",
        "\n",
        "    # Условие 4: Сумма любых четырёх строк должна содержать не менее 1 единицы\n",
        "    for (i, j, k, l) in combinations(range(X.shape[0]), 4):\n",
        "        row_sum = np.sum(X[i] + X[j] + X[k] + X[l])\n",
        "        if row_sum < 1:\n",
        "            raise ValueError(f\"Ошибка: сумма строк {i+1}, {j+1}, {k+1} и {l+1} содержит меньше 1 единицы. Сумма: {row_sum}\")\n",
        "\n",
        "    print(\"Все условия выполнены!\")\n",
        "\n",
        "def generate_G_matrix(k, n):\n",
        "    # Проверяем, что n > k\n",
        "    if n <= k:\n",
        "        raise ValueError(\"n должно быть больше k\")\n",
        "\n",
        "    X = np.array([[1, 1, 1, 1, 0, 0],\n",
        "                  [1, 1, 0, 0, 1, 1],\n",
        "                  [0, 0, 1, 1, 1, 1],\n",
        "                  [1, 0, 1, 1, 1, 0]])\n",
        "    check_conditions(X)\n",
        "    I_k = np.eye(k, dtype=int)\n",
        "\n",
        "    G = np.hstack((I_k, X))\n",
        "    return G\n",
        "\n",
        "k = 4\n",
        "n = 10\n",
        "\n",
        "G_matrix = generate_G_matrix(k, n)\n",
        "print(\"\\nПроверочная матрица G (10, 4, 5):\")\n",
        "print(G_matrix)"
      ],
      "metadata": {
        "colab": {
          "base_uri": "https://localhost:8080/"
        },
        "id": "5w87F_LRNj2t",
        "outputId": "78d10ed7-0b3a-44ce-9fc9-d32daed8081f"
      },
      "execution_count": null,
      "outputs": [
        {
          "output_type": "stream",
          "name": "stdout",
          "text": [
            "Все условия выполнены!\n",
            "\n",
            "Проверочная матрица G (10, 4, 5):\n",
            "[[1 0 0 0 1 1 1 1 0 0]\n",
            " [0 1 0 0 1 1 0 0 1 1]\n",
            " [0 0 1 0 0 0 1 1 1 1]\n",
            " [0 0 0 1 1 0 1 1 1 0]]\n"
          ]
        }
      ]
    },
    {
      "cell_type": "markdown",
      "source": [
        "# 2.7 Сформировать проверочную матрицу на основе порождающей."
      ],
      "metadata": {
        "id": "lNDN5XKWEBio"
      }
    },
    {
      "cell_type": "code",
      "source": [
        "def generate_H_matrix(k, n):\n",
        "    # Проверяем, что n > k\n",
        "    if n <= k:\n",
        "        raise ValueError(\"n должно быть больше k\")\n",
        "\n",
        "    X = np.array([[1, 1, 1, 1, 0, 0],\n",
        "                  [1, 1, 0, 0, 1, 1],\n",
        "                  [0, 0, 1, 1, 1, 1],\n",
        "                  [1, 0, 1, 1, 1, 0]])\n",
        "    check_conditions(X)\n",
        "    I_n_k = np.eye(n-k, dtype=int)\n",
        "\n",
        "    H = np.vstack((I_n_k, X))\n",
        "    return H\n",
        "\n",
        "k = 4\n",
        "n = 10\n",
        "\n",
        "H_matrix = generate_H_matrix(k, n)\n",
        "print(\"\\nПроверочная матрица G (10, 4, 5):\")\n",
        "print(H_matrix)"
      ],
      "metadata": {
        "colab": {
          "base_uri": "https://localhost:8080/"
        },
        "id": "pZ4Uag8xEBaM",
        "outputId": "b35d9506-fb0f-4e96-dfbb-bd6c25b34db2"
      },
      "execution_count": null,
      "outputs": [
        {
          "output_type": "stream",
          "name": "stdout",
          "text": [
            "Все условия выполнены!\n",
            "\n",
            "Проверочная матрица G (10, 4, 5):\n",
            "[[1 0 0 0 0 0]\n",
            " [0 1 0 0 0 0]\n",
            " [0 0 1 0 0 0]\n",
            " [0 0 0 1 0 0]\n",
            " [0 0 0 0 1 0]\n",
            " [0 0 0 0 0 1]\n",
            " [1 1 1 1 0 0]\n",
            " [1 1 0 0 1 1]\n",
            " [0 0 1 1 1 1]\n",
            " [1 0 1 1 1 0]]\n"
          ]
        }
      ]
    },
    {
      "cell_type": "markdown",
      "source": [
        "# 2.8 Сформировать таблицу синдромов для всех однократных и двукратных ошибок."
      ],
      "metadata": {
        "id": "PwpmeQ1gFHFN"
      }
    },
    {
      "cell_type": "code",
      "source": [
        "# Задаем матрицу H\n",
        "H_matrix = np.array([[1, 1, 0, 0, 1, 0, 1],\n",
        "                     [1, 0, 1, 0, 0, 1, 1],\n",
        "                     [0, 1, 1, 0, 1, 1, 0],\n",
        "                     [1, 1, 1, 0, 0, 0, 1]])\n",
        "\n",
        "# Задаем матрицу G\n",
        "G_matrix = np.array([[1, 0, 0, 0, 1, 1, 0],\n",
        "                     [0, 1, 0, 0, 0, 1, 1],\n",
        "                     [0, 0, 1, 0, 1, 0, 1],\n",
        "                     [0, 0, 0, 1, 1, 1, 1]])\n",
        "\n",
        "# Функция для формирования таблицы синдромов\n",
        "def generate_syndrome_table_2(H_matrix):\n",
        "    n = H_matrix.shape[1]\n",
        "    syndrome_table = {}\n",
        "\n",
        "    # Однократные ошибки\n",
        "    for i in range(n):\n",
        "        e = np.zeros(n, dtype=int)\n",
        "        e[i] = 1\n",
        "        syndrome = np.dot(H_matrix, e) % 2\n",
        "        syndrome_table[tuple(map(int, tuple(e)))] = tuple(map(int, tuple(syndrome)))\n",
        "\n",
        "    # Двукратные ошибки\n",
        "    for i in range(n):\n",
        "        for j in range(i+1, n):\n",
        "            e = np.zeros(n, dtype=int)\n",
        "            e[i] = 1\n",
        "            e[j] = 1\n",
        "            syndrome = np.dot(H_matrix, e) % 2\n",
        "            syndrome_table[tuple(map(int, tuple(e)))] = tuple(map(int, tuple(syndrome)))\n",
        "\n",
        "    return syndrome_table\n",
        "\n",
        "\n",
        "syndrome_table_2 = generate_syndrome_table_2(H_matrix)\n",
        "print(\"\\nТаблица синдромов для однократных и двукратных ошибок:\")\n",
        "for error, syndrome in syndrome_table_2.items():\n",
        "    print(f\"Ошибка {error}: Синдром {syndrome}\")\n"
      ],
      "metadata": {
        "colab": {
          "base_uri": "https://localhost:8080/"
        },
        "id": "qyOz-zZMFIcX",
        "outputId": "e2be8622-bbb8-450c-b6ee-49900a6da2d3"
      },
      "execution_count": null,
      "outputs": [
        {
          "output_type": "stream",
          "name": "stdout",
          "text": [
            "\n",
            "Таблица синдромов для однократных и двукратных ошибок:\n",
            "Ошибка (1, 0, 0, 0, 0, 0, 0): Синдром (1, 1, 0, 1)\n",
            "Ошибка (0, 1, 0, 0, 0, 0, 0): Синдром (1, 0, 1, 1)\n",
            "Ошибка (0, 0, 1, 0, 0, 0, 0): Синдром (0, 1, 1, 1)\n",
            "Ошибка (0, 0, 0, 1, 0, 0, 0): Синдром (0, 0, 0, 0)\n",
            "Ошибка (0, 0, 0, 0, 1, 0, 0): Синдром (1, 0, 1, 0)\n",
            "Ошибка (0, 0, 0, 0, 0, 1, 0): Синдром (0, 1, 1, 0)\n",
            "Ошибка (0, 0, 0, 0, 0, 0, 1): Синдром (1, 1, 0, 1)\n",
            "Ошибка (1, 1, 0, 0, 0, 0, 0): Синдром (0, 1, 1, 0)\n",
            "Ошибка (1, 0, 1, 0, 0, 0, 0): Синдром (1, 0, 1, 0)\n",
            "Ошибка (1, 0, 0, 1, 0, 0, 0): Синдром (1, 1, 0, 1)\n",
            "Ошибка (1, 0, 0, 0, 1, 0, 0): Синдром (0, 1, 1, 1)\n",
            "Ошибка (1, 0, 0, 0, 0, 1, 0): Синдром (1, 0, 1, 1)\n",
            "Ошибка (1, 0, 0, 0, 0, 0, 1): Синдром (0, 0, 0, 0)\n",
            "Ошибка (0, 1, 1, 0, 0, 0, 0): Синдром (1, 1, 0, 0)\n",
            "Ошибка (0, 1, 0, 1, 0, 0, 0): Синдром (1, 0, 1, 1)\n",
            "Ошибка (0, 1, 0, 0, 1, 0, 0): Синдром (0, 0, 0, 1)\n",
            "Ошибка (0, 1, 0, 0, 0, 1, 0): Синдром (1, 1, 0, 1)\n",
            "Ошибка (0, 1, 0, 0, 0, 0, 1): Синдром (0, 1, 1, 0)\n",
            "Ошибка (0, 0, 1, 1, 0, 0, 0): Синдром (0, 1, 1, 1)\n",
            "Ошибка (0, 0, 1, 0, 1, 0, 0): Синдром (1, 1, 0, 1)\n",
            "Ошибка (0, 0, 1, 0, 0, 1, 0): Синдром (0, 0, 0, 1)\n",
            "Ошибка (0, 0, 1, 0, 0, 0, 1): Синдром (1, 0, 1, 0)\n",
            "Ошибка (0, 0, 0, 1, 1, 0, 0): Синдром (1, 0, 1, 0)\n",
            "Ошибка (0, 0, 0, 1, 0, 1, 0): Синдром (0, 1, 1, 0)\n",
            "Ошибка (0, 0, 0, 1, 0, 0, 1): Синдром (1, 1, 0, 1)\n",
            "Ошибка (0, 0, 0, 0, 1, 1, 0): Синдром (1, 1, 0, 0)\n",
            "Ошибка (0, 0, 0, 0, 1, 0, 1): Синдром (0, 1, 1, 1)\n",
            "Ошибка (0, 0, 0, 0, 0, 1, 1): Синдром (1, 0, 1, 1)\n"
          ]
        }
      ]
    },
    {
      "cell_type": "markdown",
      "source": [
        "# 2.9. Сформировать кодовое слово длины n из слова длины k. Внести однократную ошибку в сформированное слово. Вычислить синдром, исправить ошибку с использованием таблицы синдромов. Убедиться в правильности полученного слова."
      ],
      "metadata": {
        "id": "du9BPx4DFVSF"
      }
    },
    {
      "cell_type": "code",
      "source": [
        "\n",
        "\n",
        "# Генерация порождающей матрицы (для кода Хэмминга (7,4))\n",
        "def generate_G():\n",
        "    # Порождающая матрица G для (7,4) кода\n",
        "    I = np.eye(4, dtype=int)  # Единичная матрица 4x4\n",
        "    X = np.array([[1, 1, 0], [1, 0, 1], [0, 1, 1], [1, 1, 1]], dtype=int)  # Матрица дополнений\n",
        "    G = np.concatenate((I, X), axis=1)  # G = [I | X]\n",
        "    return G\n",
        "\n",
        "# Генерация проверочной матрицы H\n",
        "def generate_H():\n",
        "    # Проверочная матрица H для (7,4) кода\n",
        "    X = np.array([[1, 1, 0], [1, 0, 1], [0, 1, 1], [1, 1, 1]], dtype=int)\n",
        "    I = np.eye(3, dtype=int)  # Единичная матрица 3x3\n",
        "    H = np.concatenate((X.T, I), axis=1)  # H = [X^T | I]\n",
        "    return H\n",
        "\n",
        "# Формирование кодового слова\n",
        "def encode(data_bits, G):\n",
        "    # Кодирование сообщения (data_bits) с помощью порождающей матрицы G\n",
        "    data_bits = np.array(data_bits, dtype=int)\n",
        "    codeword = np.dot(data_bits, G) % 2  # Умножение по модулю 2\n",
        "    return codeword\n",
        "\n",
        "# Внесение ошибки в кодовое слово\n",
        "def introduce_error(codeword):\n",
        "    # Случайное внесение однократной ошибки\n",
        "    error_position = np.random.randint(0, len(codeword))\n",
        "    codeword[error_position] ^= 1  # Инвертируем бит\n",
        "    return codeword, error_position\n",
        "\n",
        "# Вычисление синдрома\n",
        "def calculate_syndrome(codeword, H):\n",
        "    # Синдром для проверки ошибок\n",
        "    syndrome = np.dot(H, codeword) % 2\n",
        "    return syndrome\n",
        "\n",
        "# Исправление ошибки на основе синдрома\n",
        "def correct_error(codeword, syndrome, H):\n",
        "    # Находим позицию ошибки по синдрому\n",
        "    for i in range(len(H.T)):\n",
        "        if np.array_equal(H[:, i], syndrome):\n",
        "            codeword[i] ^= 1  # Исправляем ошибку\n",
        "            break\n",
        "    return codeword\n",
        "\n",
        "# Основная программа\n",
        "def main():\n",
        "    # Шаг 1: Генерация порождающей и проверочной матриц\n",
        "    G = generate_G()\n",
        "    H = generate_H()\n",
        "\n",
        "    # Шаг 2: Вводим данные длины 4 (пример)\n",
        "    data_bits = [1, 0, 0, 1]\n",
        "    print(\"Исходные данные:\", data_bits)\n",
        "\n",
        "    # Шаг 3: Формирование кодового слова\n",
        "    codeword = encode(data_bits, G)\n",
        "    print(\"Сгенерированное кодовое слово:\", codeword)\n",
        "\n",
        "    # Шаг 4: Внесение однократной ошибки\n",
        "    codeword_with_error, error_position = introduce_error(codeword.copy())\n",
        "    print(f\"Кодовое слово с ошибкой (ошибка в позиции {error_position}):\", codeword_with_error)\n",
        "\n",
        "    # Шаг 5: Вычисление синдрома\n",
        "    syndrome = calculate_syndrome(codeword_with_error, H)\n",
        "    print(\"Синдром ошибки:\", syndrome)\n",
        "\n",
        "    # Шаг 6: Исправление ошибки\n",
        "    corrected_codeword = correct_error(codeword_with_error.copy(), syndrome, H)\n",
        "    print(\"Исправленное кодовое слово:\", corrected_codeword)\n",
        "\n",
        "    # Шаг 7: Проверка правильности\n",
        "    if np.array_equal(corrected_codeword, codeword):\n",
        "        print(\"Ошибка успешно исправлена!\")\n",
        "    else:\n",
        "        print(\"Ошибка исправлена неверно.\")\n",
        "\n",
        "if __name__ == \"__main__\":\n",
        "    main()\n"
      ],
      "metadata": {
        "colab": {
          "base_uri": "https://localhost:8080/"
        },
        "id": "QO80OqKhWFoD",
        "outputId": "0ab9c616-7127-4ef4-98df-acbd171b8522"
      },
      "execution_count": null,
      "outputs": [
        {
          "output_type": "stream",
          "name": "stdout",
          "text": [
            "Исходные данные: [1, 0, 0, 1]\n",
            "Сгенерированное кодовое слово: [1 0 0 1 0 0 1]\n",
            "Кодовое слово с ошибкой (ошибка в позиции 5): [1 0 0 1 0 1 1]\n",
            "Синдром ошибки: [0 1 0]\n",
            "Исправленное кодовое слово: [1 0 0 1 0 0 1]\n",
            "Ошибка успешно исправлена!\n"
          ]
        }
      ]
    },
    {
      "cell_type": "markdown",
      "source": [
        "*# 2.10. Сформировать кодовое слово длины n из слова длины k. Внести двукратную ошибку в сформированное слово. Вычислить синдром, исправить ошибку с использованием таблицы синдромов. Убедиться в правильности полученного слова.*"
      ],
      "metadata": {
        "id": "53prDNntFYH_"
      }
    },
    {
      "cell_type": "code",
      "source": [
        "\n",
        "\n",
        "# Функция для вычисления синдрома\n",
        "def calculate_syndrome(code_word_with_error, H_matrix):\n",
        "    # Вычисление синдрома\n",
        "    syndrome = np.dot(code_word_with_error, H_matrix.T) % 2\n",
        "    return syndrome\n",
        "\n",
        "# Слово длины k = 6\n",
        "word = np.array([1, 0, 1, 0, 1, 0])\n",
        "print(\"word = \", word)\n",
        "\n",
        "# Порождающая матрица G (6, 11)\n",
        "\n",
        "\n",
        "# Создание кодового слова длины n = 11, добавление контрольных символов\n",
        "code_word = np.dot(word, G) % 2\n",
        "print(\"code_word = \", code_word)\n",
        "\n",
        "# Внесение ошибок в кодовое слово (позиции 3 и 5)\n",
        "error_positions = [3, 5]\n",
        "code_word_with_error = np.copy(code_word)\n",
        "for i in error_positions:\n",
        "    code_word_with_error[i] = (code_word_with_error[i] + 1) % 2\n",
        "print(\"code_word_with_error = \", code_word_with_error)\n",
        "\n",
        "# Проверочная матрица H (11, 5) для вычисления синдрома\n",
        "\n",
        "# Вызов функции для вычисления синдрома\n",
        "syndrome = calculate_syndrome(code_word_with_error, H)\n",
        "print(\"syndrome = \", syndrome)\n",
        "\n",
        "# Таблица синдромов для двукратных ошибок (пример)\n",
        "tableForTwoError = {\n",
        "    (1, 0, 1, 0, 1): (0, 0, 0, 1, 1, 0, 0, 1, 1, 0, 1),  # Добавьте корректные синдромы\n",
        "    # Добавьте больше двукратных ошибок\n",
        "}\n",
        "\n",
        "# Поиск возможных позиций ошибок\n",
        "possibleErrorPosition = []\n",
        "for error, s in tableForTwoError.items():\n",
        "    if tuple(syndrome) == s:\n",
        "        mass = list(error)\n",
        "        pos = []\n",
        "        for i in range(len(mass)):\n",
        "            if mass[i] == 1:\n",
        "                pos.append(i)\n",
        "        possibleErrorPosition.append(pos)\n",
        "\n",
        "# Исправление ошибки\n",
        "flag = True\n",
        "corrected_codeword = None  # Объявляем переменную для хранения исправленного кодового слова\n",
        "\n",
        "# Проход по найденным возможным позициям ошибок\n",
        "for error_pos in possibleErrorPosition:\n",
        "    copy_word = np.copy(code_word_with_error)  # Создаем копию для тестирования исправления\n",
        "    copy_word[error_pos[0]] = (copy_word[error_pos[0]] + 1) % 2  # Исправляем первую ошибку\n",
        "    copy_word[error_pos[1]] = (copy_word[error_pos[1]] + 1) % 2  # Исправляем вторую ошибку\n",
        "\n",
        "    # Проверка правильности полученного кодового слова\n",
        "    flag_error_copy_word = False\n",
        "    for i in range(len(copy_word)):\n",
        "        if copy_word[i] != code_word[i]:\n",
        "            flag_error_copy_word = True\n",
        "            break\n",
        "\n",
        "    if not flag_error_copy_word:  # Если кодовое слово совпадает с оригиналом, ошибка исправлена\n",
        "        corrected_codeword = copy_word  # Сохраняем исправленное кодовое слово\n",
        "        flag = False\n",
        "        break\n",
        "\n",
        "if flag:\n",
        "    print(\"Ошибка не была обнаружена и/или не была успешно исправлена\")\n",
        "    print('code_word = ', code_word)\n",
        "else:\n",
        "    print(\"Ошибка успешно обнаружена и исправлена\")\n",
        "    print('code_word = ', code_word)\n",
        "    print('code_word_without_error = ', corrected_codeword, '\\n')\n"
      ],
      "metadata": {
        "colab": {
          "base_uri": "https://localhost:8080/"
        },
        "id": "DUZgXpn3zvQm",
        "outputId": "81b78113-e4c2-4928-9d90-b6f09fd67a8e"
      },
      "execution_count": null,
      "outputs": [
        {
          "output_type": "stream",
          "name": "stdout",
          "text": [
            "word =  [1 0 1 0 1 0]\n",
            "code_word =  [1 0 1 0 1 0 0 0 1 0 0]\n",
            "code_word_with_error =  [1 0 1 1 1 1 0 0 1 0 0]\n",
            "syndrome =  [0 1 0 1 0]\n",
            "Ошибка не была обнаружена и/или не была успешно исправлена\n",
            "code_word =  [1 0 1 0 1 0 0 0 1 0 0]\n"
          ]
        }
      ]
    },
    {
      "cell_type": "markdown",
      "source": [
        "# 2.11. Сформировать кодовое слово длины n из слова длины k. Внести трёхкратную ошибку в сформированное слово. Вычислить синдром, исправить ошибку с использованием таблицы синдромов. Убедиться, что полученное слово отличается от отправленного."
      ],
      "metadata": {
        "id": "5vo0YwG6FaKz"
      }
    },
    {
      "cell_type": "code",
      "source": [
        "\n",
        "from itertools import combinations\n",
        "\n",
        "# Функция для вычисления синдрома\n",
        "def calculate_syndrome(code_word_with_error, H_matrix):\n",
        "\n",
        "    syndrome = np.dot(code_word_with_error, H_matrix.T) % 2\n",
        "    return syndrome\n",
        "\n",
        "# Функция для генерации таблицы синдромов для трёхкратных ошибок\n",
        "def generate_syndrome_table(H_matrix):\n",
        "\n",
        "\n",
        "    table = {}\n",
        "    n = H_matrix.shape[1]  # Длина кодового слова\n",
        "    # Генерация всех комбинаций 3-х ошибок (трёхкратные ошибки)\n",
        "    for error_pos in combinations(range(n), 3):\n",
        "        error_vector = np.zeros(n, dtype=int)\n",
        "        for pos in error_pos:\n",
        "            error_vector[pos] = 1\n",
        "        syndrome = tuple(np.dot(error_vector, H_matrix.T) % 2)  # Вычисление синдрома для трёхкратной ошибки\n",
        "        table[syndrome] = error_vector  # Сохраняем синдром и соответствующую ошибку в таблице\n",
        "    return table\n",
        "\n",
        "# Слово длины k = 6\n",
        "word = np.array([1, 0, 1, 0, 1, 0])\n",
        "print(\"word = \", word)\n",
        "\n",
        "# Порождающая матрица G (6, 11)\n",
        "\n",
        "\n",
        "# Создание кодового слова длины n = 11, добавление контрольных символов\n",
        "code_word = np.dot(word, G) % 2\n",
        "print(\"code_word = \", code_word)\n",
        "\n",
        "# Внесение трёхкратной ошибки (позиции 1, 4, 6)\n",
        "error_positions = [1, 4, 6]\n",
        "code_word_with_error = np.copy(code_word)\n",
        "for i in error_positions:\n",
        "    code_word_with_error[i] = (code_word_with_error[i] + 1) % 2\n",
        "print(\"code_word_with_error = \", code_word_with_error)\n",
        "\n",
        "# Проверочная матрица H (11, 5) для вычисления синдрома\n",
        "\n",
        "\n",
        "# Вызов функции для вычисления синдрома\n",
        "syndrome = calculate_syndrome(code_word_with_error, H)\n",
        "print(\"syndrome = \", syndrome)\n",
        "\n",
        "# Генерация таблицы синдромов для трёхкратных ошибок\n",
        "tableForThreeError = generate_syndrome_table(H)\n",
        "print(\"Таблица синдромов для трёхкратных ошибок сгенерирована\")\n",
        "\n",
        "# Поиск возможных позиций ошибок\n",
        "possibleErrorPosition = []\n",
        "if tuple(syndrome) in tableForThreeError:\n",
        "    error_vector = tableForThreeError[tuple(syndrome)]\n",
        "    possibleErrorPosition = [i for i, bit in enumerate(error_vector) if bit == 1]\n",
        "\n",
        "# Исправление ошибки\n",
        "flag = True\n",
        "corrected_codeword = None  # Объявляем переменную для хранения исправленного кодового слова\n",
        "\n",
        "# Проход по найденным возможным позициям ошибок\n",
        "if possibleErrorPosition:  # Проверка, что найдены возможные ошибки\n",
        "    copy_word = np.copy(code_word_with_error)  # Создаем копию для тестирования исправления\n",
        "    for pos in possibleErrorPosition:\n",
        "        copy_word[pos] = (copy_word[pos] + 1) % 2  # Исправляем ошибку\n",
        "\n",
        "    # Проверка правильности полученного кодового слова\n",
        "    if np.array_equal(copy_word, code_word):  # Если кодовое слово совпадает с оригиналом, ошибка исправлена\n",
        "        corrected_codeword = copy_word  # Сохраняем исправленное кодовое слово\n",
        "        flag = False\n",
        "\n",
        "if flag or corrected_codeword is None:\n",
        "    print(\"Ошибка не была обнаружена и/или не была успешно исправлена\")\n",
        "    print('code_word = ', code_word)\n",
        "    print('code_word_with_error = ', code_word_with_error)\n",
        "else:\n",
        "    print(\"Ошибка успешно обнаружена и исправлена\")\n",
        "    print('code_word = ', code_word)\n",
        "    print('code_word_without_error = ', corrected_codeword, '\\n')\n",
        "\n",
        "# Убедиться, что полученное слово отличается от отправленного\n",
        "if not np.array_equal(code_word_with_error, code_word):\n",
        "    print(\"Полученное кодовое слово отличается от отправленного (с ошибками)\")\n",
        "else:\n",
        "    print(\"Полученное кодовое слово не отличается от отправленного\")\n"
      ],
      "metadata": {
        "colab": {
          "base_uri": "https://localhost:8080/"
        },
        "id": "kncsqcSG5nW0",
        "outputId": "686c26be-7c0f-45f3-9f26-d054e2056e43"
      },
      "execution_count": null,
      "outputs": [
        {
          "output_type": "stream",
          "name": "stdout",
          "text": [
            "word =  [1 0 1 0 1 0]\n",
            "code_word =  [1 0 1 0 1 0 0 0 1 0 0]\n",
            "code_word_with_error =  [1 1 1 0 0 0 1 0 1 0 0]\n",
            "syndrome =  [0 0 1 0 1]\n",
            "Таблица синдромов для трёхкратных ошибок сгенерирована\n",
            "Ошибка не была обнаружена и/или не была успешно исправлена\n",
            "code_word =  [1 0 1 0 1 0 0 0 1 0 0]\n",
            "code_word_with_error =  [1 1 1 0 0 0 1 0 1 0 0]\n",
            "Полученное кодовое слово отличается от отправленного (с ошибками)\n"
          ]
        }
      ]
    }
  ]
}
