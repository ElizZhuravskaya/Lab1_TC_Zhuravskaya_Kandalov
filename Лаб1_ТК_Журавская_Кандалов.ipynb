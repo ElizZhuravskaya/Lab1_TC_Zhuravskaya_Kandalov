{
  "nbformat": 4,
  "nbformat_minor": 0,
  "metadata": {
    "colab": {
      "provenance": []
    },
    "kernelspec": {
      "name": "python3",
      "display_name": "Python 3"
    },
    "language_info": {
      "name": "python"
    }
  },
  "cells": [
    {
      "cell_type": "markdown",
      "source": [
        "# Лабораторная работа №1 по предмету \"Теория кодирования\".\n",
        "Выполнили студенты группы 6404-010302D,\n",
        "Журавская Елизавета и Кандалов Иван.\n",
        "\n"
      ],
      "metadata": {
        "id": "MXwG3BYK428k"
      }
    },
    {
      "cell_type": "code",
      "source": [
        "import numpy as np\n",
        "# 1.1. Реализовать функцию REF(), приводящую матрицу к ступенчатому виду.\n",
        "def REF(matrix):\n",
        "    # Приведение матрицы к ступенчатому виду\n",
        "    rows, cols = matrix.shape\n",
        "    lead = 0 #lead используется для отслеживания текущего столбца, в котором мы ищем ведущий элемент (первый ненулевой элемент в строке)\n",
        "\n",
        "    for r in range(rows):\n",
        "        if lead >= cols: #Если lead превышает количество столбцов, мы выходим из цикла, так как больше нет столбцов для поиска\n",
        "            break\n",
        "        i = r\n",
        "        while matrix[i, lead] == 0:\n",
        "            i += 1\n",
        "            if i == rows:\n",
        "                i = r\n",
        "                lead =+ 1\n",
        "                if cols == lead:\n",
        "                    return matrix[:r]  # Возвращаем только ненулевые строки\n",
        "        matrix[[i, r]] = matrix[[r, i]]  # Меняем местами строки\n",
        "        for i in range(r + 1, rows): #есть ведущий элемент в строке r, мы обнуляем все элементы ниже него в том же столбце.\n",
        "            if matrix[i, lead] == 1:  # Если элемент ненулевой\n",
        "                matrix[i] ^= matrix[r]  # XOR каждой строки с той строкой, которую мы выбрали (в которой есть ненулевой элемент)\n",
        "        lead += 1 #Переход к следующему столбцу\n",
        "\n",
        "    return matrix[:r]  # Возвращаем только ненулевые строки\n",
        "\n",
        "# Пример использования\n",
        "matrix = np.array([[0, 0, 1, 0, 1],\n",
        "                  [0, 0, 0, 1, 0],\n",
        "                  [0, 1, 0, 1, 1],\n",
        "                  [0, 1, 0, 1, 0]], dtype=int)\n",
        "\n",
        "result = REF(matrix)\n",
        "print(result)\n",
        "\n"
      ],
      "metadata": {
        "id": "aaNwe5n9m697",
        "outputId": "8a9c05e6-ef85-42a6-c8ef-8c6048b6f625",
        "colab": {
          "base_uri": "https://localhost:8080/"
        }
      },
      "execution_count": 18,
      "outputs": [
        {
          "output_type": "stream",
          "name": "stdout",
          "text": [
            "[[0 1 0 1 1]\n",
            " [0 0 1 0 1]\n",
            " [0 0 0 1 0]]\n"
          ]
        }
      ]
    },
    {
      "cell_type": "code",
      "source": [
        "# 1.2. Реализовать функцию RREF(), приводящую матрицу к приведённому ступенчатому виду.\n",
        "def RREF(matrix):\n",
        "    rows, cols = matrix.shape\n",
        "    lead = 0 #lead используется для отслеживания текущего столбца, в котором мы ищем ведущий элемент (первый ненулевой элемент в строке)\n",
        "\n",
        "    for r in range(rows):\n",
        "        if lead >= cols:\n",
        "            return matrix\n",
        "        # Находим первую ненулевую строку в текущем столбце\n",
        "        i = r\n",
        "        while matrix[i, lead] == 0:\n",
        "            i += 1\n",
        "            if i == rows:\n",
        "                i = r\n",
        "                lead += 1\n",
        "                if lead == cols:\n",
        "                    return matrix\n",
        "        # Меняем местами строки\n",
        "        matrix[[i, r]] = matrix[[r, i]]\n",
        "        # Нормализуем ведущий элемент (делаем его равным 1)\n",
        "        if matrix[r, lead] != 0:\n",
        "            matrix[r] = matrix[r] / matrix[r, lead]\n",
        "        # Обнуляем все элементы ниже и выше ведущего элемента в этом столбце\n",
        "        for i in range(rows):\n",
        "            if i != r and matrix[i, lead] == 1: #проверяем, есть ли ненулевой элемент в текущем столбце lead, кроме выбранного r\n",
        "                matrix[i] = matrix[i] ^ matrix[r]\n",
        "        lead += 1\n",
        "    return matrix\n",
        "\n",
        "# Пример использования\n",
        "matrix = np.array([[0, 0, 1, 0, 1],\n",
        "                   [0, 0, 0, 1, 0],\n",
        "                   [0, 1, 0, 1, 1],\n",
        "                   [0, 1, 0, 1, 0]], dtype=int)\n",
        "\n",
        "result = RREF(matrix)\n",
        "print(result)\n"
      ],
      "metadata": {
        "id": "c58PFFTaq0NX",
        "outputId": "fc545e95-16c2-41b5-e6c7-f5c5b6581aa2",
        "colab": {
          "base_uri": "https://localhost:8080/"
        }
      },
      "execution_count": 19,
      "outputs": [
        {
          "output_type": "stream",
          "name": "stdout",
          "text": [
            "[[0 1 0 0 0]\n",
            " [0 0 1 0 0]\n",
            " [0 0 0 1 0]\n",
            " [0 0 0 0 1]]\n"
          ]
        }
      ]
    },
    {
      "cell_type": "code",
      "source": [
        "# 1.3. Создать класс линейных кодов LinearCode.\n",
        "# 1.3.1 На основе входной матрицы сформировать порождающую матрицу в ступенчатом виде.\n",
        "S = np.array([[1, 0, 1, 1, 0, 0, 0, 1, 0, 0, 1],\n",
        "             [0, 0, 0, 1, 1, 1, 0, 1, 0, 1, 0],\n",
        "             [0, 0, 0, 0, 1, 0, 0, 1, 0, 0, 1],\n",
        "             [1, 0, 1, 0, 1, 1, 1, 0, 0, 0, 1],\n",
        "             [0, 0, 0, 0, 1, 0, 0, 1, 1, 1, 0],\n",
        "             [1, 0, 1, 1, 1, 0, 0, 0, 0, 0, 0]])\n",
        "S_REF = RREF(S)\n",
        "print(S_REF)"
      ],
      "metadata": {
        "colab": {
          "base_uri": "https://localhost:8080/"
        },
        "id": "DXzTPzcstxlE",
        "outputId": "cd11cebe-6ff3-4411-af14-30935ac8c9d0"
      },
      "execution_count": 20,
      "outputs": [
        {
          "output_type": "stream",
          "name": "stdout",
          "text": [
            "[[1 0 1 0 0 1 0 1 0 1 0]\n",
            " [0 0 0 1 0 1 0 0 0 1 1]\n",
            " [0 0 0 0 1 0 0 1 0 0 1]\n",
            " [0 0 0 0 0 0 1 0 0 1 0]\n",
            " [0 0 0 0 0 0 0 0 1 1 1]\n",
            " [0 0 0 0 0 0 0 0 0 0 0]]\n"
          ]
        }
      ]
    },
    {
      "cell_type": "code",
      "source": [
        "# 1.3.2 Задать n равное числу столбцов и k равное числу строк полученной матрицы (без учёта полностью нулевых строк).\n",
        "non_zero_rows = np.any(S_REF, axis=1) #создаем массив булевых значений, где `True` соответствует строкам, которые содержат хотя бы один ненулевой элемент\n",
        "S_REF_new = S_REF[non_zero_rows] #индексируем матрицу `S_REF`, выбирая только строки с `True` в массиве `non_zero_rows`\n",
        "n = S_REF_new.shape[1] # Число столбцов\n",
        "k = S_REF_new.shape[0] # Число строк без учёта нулевых\n",
        "print('n =', n)\n",
        "print('k =', k)"
      ],
      "metadata": {
        "id": "hwaqp_c9xFVc",
        "outputId": "1d65f79b-1569-42d0-c2f7-b010b1acb241",
        "colab": {
          "base_uri": "https://localhost:8080/"
        }
      },
      "execution_count": 21,
      "outputs": [
        {
          "output_type": "stream",
          "name": "stdout",
          "text": [
            "n = 11\n",
            "k = 5\n"
          ]
        }
      ]
    },
    {
      "cell_type": "code",
      "source": [
        "# 1.3.3 Сформировать проверочную матрицу на основе порождающей.\n",
        "# Шаг 1. Сформировать матрицу 𝐆∗ в приведённом ступенчатом виде на основе порождающей.\n",
        "G = np.array([[1, 0, 1, 1, 0, 0, 0, 1, 0, 0, 1],\n",
        "              [0, 0, 0, 1, 1, 1, 0, 1, 0, 1, 0],\n",
        "              [0, 0, 0, 0, 1, 0, 0, 1, 0, 0, 1],\n",
        "              [0, 0, 0, 0, 0, 0, 1, 0, 0, 1, 0],\n",
        "              [0, 0, 0, 0, 0, 0, 0, 0, 1, 1, 1]])\n",
        "G_REF = RREF(G)\n",
        "print(G_REF)"
      ],
      "metadata": {
        "id": "XF8yxUc9yHeO",
        "colab": {
          "base_uri": "https://localhost:8080/"
        },
        "outputId": "4f8826ab-cb31-4378-adfc-ecec959c0a7a"
      },
      "execution_count": 22,
      "outputs": [
        {
          "output_type": "stream",
          "name": "stdout",
          "text": [
            "[[1 0 1 0 0 1 0 1 0 1 0]\n",
            " [0 0 0 1 0 1 0 0 0 1 1]\n",
            " [0 0 0 0 1 0 0 1 0 0 1]\n",
            " [0 0 0 0 0 0 1 0 0 1 0]\n",
            " [0 0 0 0 0 0 0 0 1 1 1]]\n"
          ]
        }
      ]
    },
    {
      "cell_type": "code",
      "source": [
        "# Шаг 2. Зафиксировать ведущие столбцы lead матрицы 𝐆∗.\n",
        "def find_leading_columns(matrix):\n",
        "    rows, cols = matrix.shape\n",
        "    leading_cols = [] # Список для хранения номеров ведущих столбцов\n",
        "    current_row = 0 # Текущая строка для поиска ведущего элемента\n",
        "    current_col = 0 # Текущий столбец для поиска ведущего элемента\n",
        "\n",
        "    while current_row < rows and current_col < cols:\n",
        "        # Ищем ведущий элемент в текущей строке\n",
        "        while current_col < cols and matrix[current_row, current_col] == 0:\n",
        "            current_col += 1\n",
        "        # Если ведущий элемент найден, добавляем номер столбца в список\n",
        "        if current_col < cols:\n",
        "            leading_cols.append(current_col)\n",
        "        # Переходим к следующей строке и столбцу\n",
        "        current_row += 1\n",
        "        current_col += 1\n",
        "    return leading_cols\n",
        "\n",
        "leading_cols = find_leading_columns(G_REF)\n",
        "print(f\"Номера ведущих столбцов: {leading_cols}\")"
      ],
      "metadata": {
        "colab": {
          "base_uri": "https://localhost:8080/"
        },
        "id": "TYUgHHGT0L2t",
        "outputId": "91e9cb12-f967-42ec-d20e-e5c6cdc8e75f"
      },
      "execution_count": 23,
      "outputs": [
        {
          "output_type": "stream",
          "name": "stdout",
          "text": [
            "Номера ведущих столбцов: [0, 3, 4, 6, 8]\n"
          ]
        }
      ]
    },
    {
      "cell_type": "code",
      "source": [
        "# Шаг 3. Сформировать сокращённую матрицу 𝐗, удалив ведущие столбцы матрицы 𝐆∗.\n",
        "keep_indices = list(set(range(G_REF.shape[1])) - set(leading_cols)) #G_REF.shape[1]-количество столбцов\n",
        "#range(G_REF.shape[1]) создает объект, который представляет последовательность чисел индексов всех столбцов в матрице\n",
        "#set()- превращает последовательность индексов в множество\n",
        "X = G_REF[:, keep_indices]\n",
        "print(X)"
      ],
      "metadata": {
        "colab": {
          "base_uri": "https://localhost:8080/"
        },
        "id": "mqJLWC_10cpF",
        "outputId": "70460361-5375-40df-cd82-1016cfb00617"
      },
      "execution_count": 24,
      "outputs": [
        {
          "output_type": "stream",
          "name": "stdout",
          "text": [
            "[[0 1 1 1 1 0]\n",
            " [0 0 1 0 1 1]\n",
            " [0 0 0 1 0 1]\n",
            " [0 0 0 0 1 0]\n",
            " [0 0 0 0 1 1]]\n"
          ]
        }
      ]
    },
    {
      "cell_type": "code",
      "source": [
        "# Создаем единичную матрицу I\n",
        "I = np.eye(len(X[0]), dtype = int)\n",
        "print(I)"
      ],
      "metadata": {
        "colab": {
          "base_uri": "https://localhost:8080/"
        },
        "id": "bO6N_c1v5Z99",
        "outputId": "5b91b649-afd8-4fa0-8afa-2f235b5013ed"
      },
      "execution_count": 25,
      "outputs": [
        {
          "output_type": "stream",
          "name": "stdout",
          "text": [
            "[[1 0 0 0 0 0]\n",
            " [0 1 0 0 0 0]\n",
            " [0 0 1 0 0 0]\n",
            " [0 0 0 1 0 0]\n",
            " [0 0 0 0 1 0]\n",
            " [0 0 0 0 0 1]]\n"
          ]
        }
      ]
    },
    {
      "cell_type": "code",
      "source": [
        "#Шаг 4. Сформировать матрицу 𝐇, поместив в строки, соответствующие позициям ведущих столбцов строки из 𝐗, а в остальные – строки единичной матрицы.\n",
        "\n",
        "H = []\n",
        "j = 0\n",
        "r = 0\n",
        "for i in range(len(X)+len(I)):\n",
        "    if i in leading_cols:\n",
        "        H.append(X[r])\n",
        "        r+=1\n",
        "    else:\n",
        "        H.append(I[j])\n",
        "        j+=1\n",
        "print(*H)"
      ],
      "metadata": {
        "colab": {
          "base_uri": "https://localhost:8080/"
        },
        "id": "ZqdqgbZY1iSd",
        "outputId": "8168f11b-ecc9-4f2d-8e17-e69c4e27fd75"
      },
      "execution_count": 26,
      "outputs": [
        {
          "output_type": "stream",
          "name": "stdout",
          "text": [
            "[0 1 1 1 1 0] [1 0 0 0 0 0] [0 1 0 0 0 0] [0 0 1 0 1 1] [0 0 0 1 0 1] [0 0 1 0 0 0] [0 0 0 0 1 0] [0 0 0 1 0 0] [0 0 0 0 1 1] [0 0 0 0 1 0] [0 0 0 0 0 1]\n"
          ]
        }
      ]
    },
    {
      "cell_type": "code",
      "source": [
        "# Шаг 4. Сформировать матрицу 𝐇, поместив в строки, соответствующие позициям ведущих столбцов строки из 𝐗, а в остальные – строки единичной матрицы.\n",
        "H = np.zeros((len(X)+len(I), len(X[0])), dtype = int)\n",
        "j = 0\n",
        "r = 0\n",
        "for i in range(len(X)+len(I)):\n",
        "    if i in leading_cols:\n",
        "        H[i,:]=X[r,:]\n",
        "        r+=1\n",
        "    else:\n",
        "        H[i,:] = I[j,:]\n",
        "        j+=1\n",
        "print(H)"
      ],
      "metadata": {
        "colab": {
          "base_uri": "https://localhost:8080/"
        },
        "id": "ojU-IFQz_Dte",
        "outputId": "27503145-9cde-4204-b186-00ba29cfacc4"
      },
      "execution_count": 27,
      "outputs": [
        {
          "output_type": "stream",
          "name": "stdout",
          "text": [
            "[[0 1 1 1 1 0]\n",
            " [1 0 0 0 0 0]\n",
            " [0 1 0 0 0 0]\n",
            " [0 0 1 0 1 1]\n",
            " [0 0 0 1 0 1]\n",
            " [0 0 1 0 0 0]\n",
            " [0 0 0 0 1 0]\n",
            " [0 0 0 1 0 0]\n",
            " [0 0 0 0 1 1]\n",
            " [0 0 0 0 1 0]\n",
            " [0 0 0 0 0 1]]\n"
          ]
        }
      ]
    },
    {
      "cell_type": "code",
      "source": [
        "# 1.4. Сформировать все кодовые слова длины n двумя способами.\n",
        "# 1.4.1 Сложить все слова из порождающего множества, оставить неповторяющиеся.\n",
        "G = np.array([[1, 0, 1, 1, 0, 0, 0, 1, 0, 0, 1],\n",
        "              [0, 0, 0, 1, 1, 1, 0, 1, 0, 1, 0],\n",
        "              [0, 0, 0, 0, 1, 0, 0, 1, 0, 0, 1],\n",
        "              [0, 0, 0, 0, 0, 0, 1, 0, 0, 1, 0],\n",
        "              [0, 0, 0, 0, 0, 0, 0, 0, 1, 1, 1]])\n",
        "\n",
        "H = np.array([[0, 1, 1, 1, 1, 0],\n",
        "             [1, 0, 0, 0, 0, 0],\n",
        "             [0, 1, 0, 0, 0, 0],\n",
        "             [0, 0, 1, 0, 1, 1],\n",
        "             [0, 0, 0, 1, 0, 1],\n",
        "             [0, 0, 1, 0, 0, 0],\n",
        "             [0, 0, 0, 0, 1, 0],\n",
        "             [0, 0, 0, 1, 0, 0],\n",
        "             [0, 0, 0, 0, 1, 1],\n",
        "             [0, 0, 0, 0, 1, 0],\n",
        "             [0, 0, 0, 0, 0, 1]])\n"
      ],
      "metadata": {
        "id": "Hmem9j2A_oan"
      },
      "execution_count": 28,
      "outputs": []
    },
    {
      "cell_type": "code",
      "source": [
        "from itertools import combinations\n",
        "M = np.array([[0, 1, 0, 0],  # строка 1\n",
        "              [0, 0, 1, 1],  # строка 2\n",
        "              [1, 1, 0, 0]]) # строка 4\n",
        "\n",
        "# Получаем все комбинации строк\n",
        "n = M.shape[0]\n",
        "xor_results = []\n",
        "spisok=[]\n",
        "# Выполняем XOR для всех комбинаций из 2 и более строк\n",
        "for r in range(2, n + 1):  # от 2 до n строк (включительно)\n",
        "    for indices in combinations(range(n), r):  # получаем все комбинации\n",
        "        result = np.zeros(M.shape[1], dtype=int)  # инициализируем результат\n",
        "        for index in indices:  # для каждой выбранной строки\n",
        "            result = np.bitwise_xor(result, M[index])\n",
        "        xor_results.append(result)\n",
        "\n",
        "\n",
        "print(*xor_results)"
      ],
      "metadata": {
        "colab": {
          "base_uri": "https://localhost:8080/"
        },
        "id": "SfYoDRHGQa_j",
        "outputId": "c13a46d9-e0e2-43ee-9826-735321f8810b"
      },
      "execution_count": 29,
      "outputs": [
        {
          "output_type": "stream",
          "name": "stdout",
          "text": [
            "[0 1 1 1] [1 0 0 0] [1 1 1 1] [1 0 1 1]\n"
          ]
        }
      ]
    },
    {
      "cell_type": "code",
      "source": [
        "# 1.4.2 Взять все двоичные слова длины k, умножить каждое на G.\n",
        "\n",
        "u = np.array([1, 0, 1, 1, 0])\n",
        "print('u = ', u)\n",
        "\n",
        "v = np.dot(u,G)\n",
        "v %= 2\n",
        "print('v = u@G ', v)\n",
        "\n",
        "check = np.dot(v, H)\n",
        "check %= 2\n",
        "print('v@H =', check)"
      ],
      "metadata": {
        "colab": {
          "base_uri": "https://localhost:8080/"
        },
        "id": "OHViRNMtBddb",
        "outputId": "8b75c8cc-2ff7-4f2a-e3d7-98c31ad57f11"
      },
      "execution_count": 30,
      "outputs": [
        {
          "output_type": "stream",
          "name": "stdout",
          "text": [
            "u =  [1 0 1 1 0]\n",
            "v = u@G  [1 0 1 1 1 0 1 0 0 1 0]\n",
            "v@H = [0 0 0 0 0 0]\n"
          ]
        }
      ]
    },
    {
      "cell_type": "code",
      "source": [
        "# 1.5 Вычислить кодовое расстояние получившегося кода.\n",
        "\n",
        "from itertools import combinations\n",
        "\n",
        "def find_code_distance(matrix):\n",
        "    min_weight = float('inf') #верхнее значение для сравнения\n",
        "\n",
        "    # Перебираем все комбинации строк матрицы\n",
        "    for r in range(1, len(matrix) + 1):\n",
        "        for combo in combinations(matrix, r):\n",
        "            # Инициализируем суммированный вектор\n",
        "            combined = np.zeros(len(matrix[0]))\n",
        "            # Суммируем строки по модулю 2\n",
        "            for row in combo:\n",
        "                for i in range(len(row)):\n",
        "                    combined[i] = (combined[i] + row[i]) % 2\n",
        "\n",
        "            # Вычисляем вес полученного вектора\n",
        "            weight = sum(combined)\n",
        "            if 0 < weight < min_weight:\n",
        "                min_weight = weight\n",
        "\n",
        "    return int(min_weight)\n",
        "\n",
        "n=len(G[0])\n",
        "k=len(G)\n",
        "print('n=', n, '\\nk=', k)\n",
        "\n",
        "# Вычисляем кодовое расстояние\n",
        "d = find_code_distance(G)\n",
        "\n",
        "# Вычисляем кратность обнаруживаемой ошибки\n",
        "t = (d - 1)\n",
        "#t = (d - 1) // 2\n",
        "print(\"d =\", d)\n",
        "print(\"t =\", t)\n"
      ],
      "metadata": {
        "colab": {
          "base_uri": "https://localhost:8080/"
        },
        "id": "sv-FWJ8hJhJY",
        "outputId": "0fa42d50-3450-4cdd-ce8f-9bc92873b38c"
      },
      "execution_count": 31,
      "outputs": [
        {
          "output_type": "stream",
          "name": "stdout",
          "text": [
            "n= 11 \n",
            "k= 5\n",
            "d = 2\n",
            "t = 1\n"
          ]
        }
      ]
    },
    {
      "cell_type": "code",
      "source": [
        "# 1.4.1 Внести в кодовое слово ошибку кратности не более t, умножить полученное слово на H, убедиться в обнаружении ошибки.\n",
        "v = np.array([1, 0, 1, 1, 1, 0, 1, 0, 0, 1, 0])\n",
        "e1 = np.array([0, 0, 1, 0, 0, 0, 0, 0, 0, 0, 0])\n",
        "Ve1 = (v + e1) % 2\n",
        "print('v+e1', Ve1)\n",
        "check = np.dot(Ve1, H)\n",
        "check %= 2\n",
        "print('(v+e1)@H =', check, \"- error\")"
      ],
      "metadata": {
        "id": "4hvwKaHfHU_V",
        "colab": {
          "base_uri": "https://localhost:8080/"
        },
        "outputId": "74438f41-c9e1-4d69-ce95-82cc4949d2ea"
      },
      "execution_count": 32,
      "outputs": [
        {
          "output_type": "stream",
          "name": "stdout",
          "text": [
            "v+e1 [1 0 0 1 1 0 1 0 0 1 0]\n",
            "(v+e1)@H = [0 1 0 0 0 0] - error\n"
          ]
        }
      ]
    },
    {
      "cell_type": "code",
      "source": [
        "# 1.4.2 Найти для некоторого кодового слова ошибку кратности t+1 такую, что при умножении на H ошибка не может быть обнаружена.\n",
        "def find_e2(v, H):\n",
        "    # Перебираем все пары позиций в кодовом слове\n",
        "    for i in range(len(v) - 1):\n",
        "        for j in range(i + 1, len(v)):\n",
        "            # Создаем вектор ошибки e2\n",
        "            #перебираем все возможные пары индексов\n",
        "            e2 = np.zeros(len(v), dtype=int)\n",
        "            e2[i] = 1\n",
        "            e2[j] = 1\n",
        "            e2 = np.array(e2)\n",
        "            VE2 = (v + e2) % 2 #Создание вектора с ошибкой\n",
        "            check = np.dot(VE2, H)\n",
        "            check %= 2 #Проверка обнаружения ошибки\n",
        "            a = 0\n",
        "            for k in range(0, len(check)): #Если a состоит только из нулей, то ошибка не обнаружена\n",
        "                if check[k] == 0:\n",
        "                    a += 1\n",
        "            if a == len(check):\n",
        "                return e2\n",
        "    return None\n",
        "\n",
        "e2 = find_e2(v, H)\n",
        "print('e2', e2)\n",
        "\n",
        "Ve2 = (v + e2) % 2\n",
        "print('v+e2', Ve2)\n",
        "\n",
        "check = np.dot(Ve2, H)\n",
        "check %= 2\n",
        "print('(v+e2)@H =', check, \"- no error\")"
      ],
      "metadata": {
        "id": "RN22fQTyYVgT",
        "colab": {
          "base_uri": "https://localhost:8080/"
        },
        "outputId": "ac29dc59-2b96-4411-ef62-c7b1fdf0b97c"
      },
      "execution_count": 33,
      "outputs": [
        {
          "output_type": "stream",
          "name": "stdout",
          "text": [
            "e2 [0 0 0 0 0 0 1 0 0 1 0]\n",
            "v+e2 [1 0 1 1 1 0 0 0 0 0 0]\n",
            "(v+e2)@H = [0 0 0 0 0 0] - no error\n"
          ]
        }
      ]
    }
  ]
}